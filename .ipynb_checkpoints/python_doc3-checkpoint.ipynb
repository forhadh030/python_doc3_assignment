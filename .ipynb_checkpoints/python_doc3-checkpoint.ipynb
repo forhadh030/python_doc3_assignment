{
 "cells": [
  {
   "cell_type": "code",
   "execution_count": null,
   "id": "80f82707",
   "metadata": {},
   "outputs": [],
   "source": [
    "import Area\n",
    "import Circumference\n",
    "\n",
    "def your_input():\n",
    "    response = input(\"Hello user, please type 'h' for house or 'c' for circle: \")\n",
    "\n",
    "    if response == 'h':\n",
    "        print(\"Hello Owner, I am here to tell you the square footage of your house!\\n\")\n",
    "        length = int(input(\"Please enter the length of your house: \"))\n",
    "        width = int(input(\"Please enter the width of your house: \"))\n",
    "\n",
    "        return Area.house(length, width)\n",
    "\n",
    "    elif response == 'c':\n",
    "        print(\"Hello Stranger, I am here to tell you the circumference of a cirle!\\n\")\n",
    "        radius = int(input(\"Please enter the radius of the cirlce: \"))\n",
    "\n",
    "        return Circumference.circle(radius)\n",
    "    \n",
    "    else:\n",
    "        print(\"Please select the option listed\")\n",
    "\n",
    "print(your_input())"
   ]
  }
 ],
 "metadata": {
  "kernelspec": {
   "display_name": "Python 3 (ipykernel)",
   "language": "python",
   "name": "python3"
  },
  "language_info": {
   "codemirror_mode": {
    "name": "ipython",
    "version": 3
   },
   "file_extension": ".py",
   "mimetype": "text/x-python",
   "name": "python",
   "nbconvert_exporter": "python",
   "pygments_lexer": "ipython3",
   "version": "3.9.12"
  }
 },
 "nbformat": 4,
 "nbformat_minor": 5
}
