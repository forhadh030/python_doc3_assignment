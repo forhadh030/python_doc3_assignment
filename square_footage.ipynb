{
 "cells": [
  {
   "cell_type": "code",
   "execution_count": 3,
   "id": "187b2648",
   "metadata": {},
   "outputs": [
    {
     "data": {
      "text/plain": [
       "'Based on your response, the square footage of your house is: 80000'"
      ]
     },
     "execution_count": 3,
     "metadata": {},
     "output_type": "execute_result"
    }
   ],
   "source": [
    "# Has a function to calculate the square footage of a house \n",
    "\n",
    "def house(width, height):\n",
    "\n",
    "    area = width * height\n",
    "    return f\"Based on your response, the square footage of your house is: {area}\"\n",
    "house(200, 400)"
   ]
  },
  {
   "cell_type": "code",
   "execution_count": null,
   "id": "84857235",
   "metadata": {},
   "outputs": [],
   "source": []
  }
 ],
 "metadata": {
  "kernelspec": {
   "display_name": "Python 3 (ipykernel)",
   "language": "python",
   "name": "python3"
  },
  "language_info": {
   "codemirror_mode": {
    "name": "ipython",
    "version": 3
   },
   "file_extension": ".py",
   "mimetype": "text/x-python",
   "name": "python",
   "nbconvert_exporter": "python",
   "pygments_lexer": "ipython3",
   "version": "3.9.12"
  }
 },
 "nbformat": 4,
 "nbformat_minor": 5
}
