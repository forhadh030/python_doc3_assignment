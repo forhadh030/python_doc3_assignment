{
 "cells": [
  {
   "cell_type": "code",
   "execution_count": 1,
   "id": "4cd8f0e9",
   "metadata": {},
   "outputs": [
    {
     "name": "stdout",
     "output_type": "stream",
     "text": [
      "Based on your response, the circumference of your circle is: 18.849555921540002\n"
     ]
    }
   ],
   "source": [
    "import math\n",
    "\n",
    "def circle(radius):\n",
    "    circumference = 2 * 3.14159265359 * radius\n",
    "    return f\"Based on your response, the circumference of your circle is: {circumference}\"\n",
    "print(circle(3))"
   ]
  },
  {
   "cell_type": "code",
   "execution_count": null,
   "id": "eec86d67",
   "metadata": {},
   "outputs": [],
   "source": []
  }
 ],
 "metadata": {
  "kernelspec": {
   "display_name": "Python 3 (ipykernel)",
   "language": "python",
   "name": "python3"
  },
  "language_info": {
   "codemirror_mode": {
    "name": "ipython",
    "version": 3
   },
   "file_extension": ".py",
   "mimetype": "text/x-python",
   "name": "python",
   "nbconvert_exporter": "python",
   "pygments_lexer": "ipython3",
   "version": "3.9.12"
  }
 },
 "nbformat": 4,
 "nbformat_minor": 5
}
